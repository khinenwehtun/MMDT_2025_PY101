{
  "cells": [
    {
      "cell_type": "markdown",
      "metadata": {
        "id": "view-in-github",
        "colab_type": "text"
      },
      "source": [
        "<a href=\"https://colab.research.google.com/github/khinenwehtun/MMDT_2025_PY101/blob/khinenwehtun/khine-nwe-htun/Ex1_Python.ipynb\" target=\"_parent\"><img src=\"https://colab.research.google.com/assets/colab-badge.svg\" alt=\"Open In Colab\"/></a>"
      ]
    },
    {
      "cell_type": "markdown",
      "metadata": {
        "id": "thgO68_HZ0Aa"
      },
      "source": [
        "# Introduction"
      ]
    },
    {
      "cell_type": "markdown",
      "metadata": {
        "id": "PIh3i0c_Z_yP"
      },
      "source": [
        "This section introduces the Python Programming uisng Colab. Follow the instructions and complete the exercises."
      ]
    },
    {
      "cell_type": "markdown",
      "metadata": {
        "id": "gCw6SfeFZ78l"
      },
      "source": [
        "# Ex 1 : Check Version"
      ]
    },
    {
      "cell_type": "markdown",
      "metadata": {
        "id": "6Vm-27iLabjm"
      },
      "source": [
        "Using the below cell, Import the required library and check the version of the python in your environment."
      ]
    },
    {
      "cell_type": "code",
      "execution_count": 3,
      "metadata": {
        "id": "PJDYHB4AXVdc",
        "outputId": "020571e3-d007-45c6-8520-202b7b1e42d2",
        "colab": {
          "base_uri": "https://localhost:8080/"
        }
      },
      "outputs": [
        {
          "output_type": "stream",
          "name": "stdout",
          "text": [
            "3.11.12 (main, Apr  9 2025, 08:55:54) [GCC 11.4.0]\n"
          ]
        }
      ],
      "source": [
        "import sys\n",
        "print(sys.version)"
      ]
    },
    {
      "cell_type": "markdown",
      "metadata": {
        "id": "5qTEiwGlawf5"
      },
      "source": [
        "# Ex2 : Convert Currency."
      ]
    },
    {
      "cell_type": "markdown",
      "metadata": {
        "id": "XH8K1p0ypVCg"
      },
      "source": [
        "Write a program that asks the user for the amount in usd and converts it to British pounds. The exchange rate is from usd to BP is given as 0.82"
      ]
    },
    {
      "cell_type": "code",
      "execution_count": 4,
      "metadata": {
        "colab": {
          "base_uri": "https://localhost:8080/"
        },
        "id": "x9xQXOnRa0MS",
        "outputId": "25a39146-2c8c-49e7-fb1e-22fd2a1721b9"
      },
      "outputs": [
        {
          "output_type": "stream",
          "name": "stdout",
          "text": [
            "Enter the amount in USD: 100\n",
            "100 usd is equivalent to 82.0 british pound\n"
          ]
        }
      ],
      "source": [
        "usd_amount = input (\"Enter the amount in USD: \")\n",
        "bp_amount = int(usd_amount) *0.82\n",
        "print(\"{} usd is equivalent to {} british pound\".format(usd_amount, bp_amount))"
      ]
    },
    {
      "cell_type": "markdown",
      "metadata": {
        "id": "ePfECwUIpli4"
      },
      "source": [
        "# Ex 3: Temperature Converter"
      ]
    },
    {
      "cell_type": "code",
      "source": [
        "temp_F = input(\"Enter temperatre in F: \")\n",
        "temp_C = (int(temp_F)-32)*5/9\n",
        "\n",
        "print(\"{} Feranhite is equal to {:.2f} Celsius\".format(temp_F, temp_C))"
      ],
      "metadata": {
        "id": "dxfJIfeSlBSx",
        "outputId": "a909f145-f56e-41ef-a7ce-558e78846903",
        "colab": {
          "base_uri": "https://localhost:8080/"
        }
      },
      "execution_count": 6,
      "outputs": [
        {
          "output_type": "stream",
          "name": "stdout",
          "text": [
            "Enter temperatre in F: 27\n",
            "27 Feranhite is equal to -2.78 Celsius\n"
          ]
        }
      ]
    },
    {
      "cell_type": "markdown",
      "metadata": {
        "id": "Y60hUWDsp3pK"
      },
      "source": [
        "Write a program that convert temperature in Feranhite to celsius."
      ]
    },
    {
      "cell_type": "code",
      "execution_count": 16,
      "metadata": {
        "id": "G9PbO6qPoUfn",
        "outputId": "acde46ef-1027-435c-8d84-ca9e719cedde",
        "colab": {
          "base_uri": "https://localhost:8080/"
        }
      },
      "outputs": [
        {
          "name": "stdout",
          "output_type": "stream",
          "text": [
            "Enter temperatre in F: 300\n"
          ]
        },
        {
          "output_type": "error",
          "ename": "ValueError",
          "evalue": "Unknown format code 'c' for object of type 'float'",
          "traceback": [
            "\u001b[0;31m---------------------------------------------------------------------------\u001b[0m",
            "\u001b[0;31mValueError\u001b[0m                                Traceback (most recent call last)",
            "\u001b[0;32m<ipython-input-16-c55cbc87fa8e>\u001b[0m in \u001b[0;36m<cell line: 0>\u001b[0;34m()\u001b[0m\n\u001b[1;32m      2\u001b[0m \u001b[0mtemp_F\u001b[0m \u001b[0;34m=\u001b[0m \u001b[0;34m(\u001b[0m\u001b[0mint\u001b[0m\u001b[0;34m(\u001b[0m\u001b[0mtemp_C\u001b[0m\u001b[0;34m)\u001b[0m\u001b[0;34m*\u001b[0m\u001b[0;36m9\u001b[0m\u001b[0;34m/\u001b[0m\u001b[0;36m5\u001b[0m\u001b[0;34m)\u001b[0m\u001b[0;34m+\u001b[0m\u001b[0;36m32\u001b[0m\u001b[0;34m\u001b[0m\u001b[0;34m\u001b[0m\u001b[0m\n\u001b[1;32m      3\u001b[0m \u001b[0;34m\u001b[0m\u001b[0m\n\u001b[0;32m----> 4\u001b[0;31m \u001b[0mprint\u001b[0m\u001b[0;34m(\u001b[0m\u001b[0;34m\"{} Feranhite is equal to {:.2c} Celsius\"\u001b[0m\u001b[0;34m.\u001b[0m\u001b[0mformat\u001b[0m\u001b[0;34m(\u001b[0m\u001b[0mtemp_C\u001b[0m\u001b[0;34m,\u001b[0m \u001b[0mtemp_F\u001b[0m\u001b[0;34m)\u001b[0m\u001b[0;34m)\u001b[0m\u001b[0;34m\u001b[0m\u001b[0;34m\u001b[0m\u001b[0m\n\u001b[0m",
            "\u001b[0;31mValueError\u001b[0m: Unknown format code 'c' for object of type 'float'"
          ]
        }
      ],
      "source": [
        "temp_C = input(\"Enter temperatre in F: \")\n",
        "temp_F = (int(temp_C)*9/5)+32\n",
        "\n",
        "print(\"{} Feranhite is equal to {:.2f} Celsius\".format(temp_C, temp_F))"
      ]
    },
    {
      "cell_type": "markdown",
      "metadata": {
        "id": "a2kNRO9Vp7Qz"
      },
      "source": [
        "# Ex 4: Daily Maths"
      ]
    },
    {
      "cell_type": "markdown",
      "metadata": {
        "id": "lItKon9qqEUn"
      },
      "source": [
        "You are working in a retail shop. Write a program that computes the total cost for a customer that bought 3 differnt types of fruits : apple, orange, mango. Ask the user to enter the quantity and price for each type."
      ]
    },
    {
      "cell_type": "code",
      "execution_count": 17,
      "metadata": {
        "id": "mIQFjH6wqDma",
        "outputId": "0bad1e1e-a67a-4772-e7af-ec92b63ef3d0",
        "colab": {
          "base_uri": "https://localhost:8080/"
        }
      },
      "outputs": [
        {
          "name": "stdout",
          "output_type": "stream",
          "text": [
            "apple10\n",
            "orange2\n",
            "mango4\n"
          ]
        }
      ],
      "source": [
        "apple_qty=input(\"apple\")\n",
        "orange_qty=input(\"orange\")\n",
        "mango_qty=input(\"mango\")"
      ]
    },
    {
      "cell_type": "markdown",
      "metadata": {
        "id": "31fXlmEQqgvW"
      },
      "source": [
        "# Ex 5 : Greeting"
      ]
    },
    {
      "cell_type": "markdown",
      "metadata": {
        "id": "zvnmj8MGrJIw"
      },
      "source": [
        "Write a program to greet the customer who provides the user name. Your program should ask the name of the customer and print \"Hello + customer name\""
      ]
    },
    {
      "cell_type": "code",
      "execution_count": 18,
      "metadata": {
        "id": "Z6ynxZMarIXh",
        "outputId": "8308e60c-b662-4d20-b5fe-7e2e6e67816b",
        "colab": {
          "base_uri": "https://localhost:8080/"
        }
      },
      "outputs": [
        {
          "name": "stdout",
          "output_type": "stream",
          "text": [
            "Hello + Welcome Mr Hinery\n"
          ]
        },
        {
          "output_type": "execute_result",
          "data": {
            "text/plain": [
              "'Mr Hinery'"
            ],
            "application/vnd.google.colaboratory.intrinsic+json": {
              "type": "string"
            }
          },
          "metadata": {},
          "execution_count": 18
        }
      ],
      "source": [
        "input(\"Hello + Welcome \")"
      ]
    },
    {
      "cell_type": "markdown",
      "metadata": {
        "id": "X0AKpVfejDDr"
      },
      "source": [
        "# Ex 6: Random Number\n",
        "Write a program that generates a random number, x, between 1 and 50, a random number y between 2 and 5, and computes x^y."
      ]
    },
    {
      "cell_type": "code",
      "execution_count": null,
      "metadata": {
        "id": "qJcnYU1rjDDr"
      },
      "outputs": [],
      "source": [
        "from random import randint\n",
        "x = randint(1,10)\n",
        "print('A random number between 1 and 10: ', x)"
      ]
    },
    {
      "cell_type": "markdown",
      "metadata": {
        "id": "wxhHXufGjDDr"
      },
      "source": [
        "# Ex 7: Greet many times.\n",
        "Write a program that generates a random number between 1 and 10 and prints your name that many times."
      ]
    },
    {
      "cell_type": "code",
      "execution_count": 19,
      "metadata": {
        "id": "kem70IiQjDDr",
        "outputId": "6b218a1f-8588-4fbe-bcb7-f14ae01c085f",
        "colab": {
          "base_uri": "https://localhost:8080/"
        }
      },
      "outputs": [
        {
          "output_type": "error",
          "ename": "NameError",
          "evalue": "name 'generate' is not defined",
          "traceback": [
            "\u001b[0;31m---------------------------------------------------------------------------\u001b[0m",
            "\u001b[0;31mNameError\u001b[0m                                 Traceback (most recent call last)",
            "\u001b[0;32m<ipython-input-19-831693d43d9c>\u001b[0m in \u001b[0;36m<cell line: 0>\u001b[0;34m()\u001b[0m\n\u001b[0;32m----> 1\u001b[0;31m \u001b[0mgenerate\u001b[0m\u001b[0;34m(\u001b[0m\u001b[0;36m1\u001b[0m\u001b[0;34m,\u001b[0m\u001b[0;36m10\u001b[0m\u001b[0;34m)\u001b[0m\u001b[0;34m\u001b[0m\u001b[0;34m\u001b[0m\u001b[0m\n\u001b[0m",
            "\u001b[0;31mNameError\u001b[0m: name 'generate' is not defined"
          ]
        }
      ],
      "source": [
        "\n",
        "input(\"\"\"numbers 1,10\"\"\")"
      ]
    },
    {
      "cell_type": "markdown",
      "metadata": {
        "id": "KStZ3nk_jDDs"
      },
      "source": [
        "# Ex 8: Computing.\n",
        "Write a program that asks the user to enter two numbers, x and y, and computes |x-y|/(x+y)."
      ]
    },
    {
      "cell_type": "code",
      "execution_count": 15,
      "metadata": {
        "id": "DtMeEP_yjDDs",
        "outputId": "9209d24c-3d86-4d96-e3c0-6e53c94ad7a2",
        "colab": {
          "base_uri": "https://localhost:8080/"
        }
      },
      "outputs": [
        {
          "output_type": "error",
          "ename": "SyntaxError",
          "evalue": "invalid syntax (<ipython-input-15-eb85bcc25850>, line 1)",
          "traceback": [
            "\u001b[0;36m  File \u001b[0;32m\"<ipython-input-15-eb85bcc25850>\"\u001b[0;36m, line \u001b[0;32m1\u001b[0m\n\u001b[0;31m    number one= input(x)\u001b[0m\n\u001b[0m           ^\u001b[0m\n\u001b[0;31mSyntaxError\u001b[0m\u001b[0;31m:\u001b[0m invalid syntax\n"
          ]
        }
      ],
      "source": [
        "number one= input(x)\n",
        "number two= input(y)\n",
        "input=(|x-y|/(x+y)"
      ]
    },
    {
      "cell_type": "markdown",
      "metadata": {
        "id": "4G8oqYByjDDs"
      },
      "source": [
        "# Ex 9: Computing\n",
        "\n",
        "Write a program that asks the user for a number of seconds and prints out how many minutes and seconds that is. For instance, 200 seconds is 3 minutes and 20 seconds."
      ]
    },
    {
      "cell_type": "code",
      "execution_count": 14,
      "metadata": {
        "id": "xEv1lTmKjDDs",
        "outputId": "1608d674-f127-45bd-95b3-98ba8325faa8",
        "colab": {
          "base_uri": "https://localhost:8080/"
        }
      },
      "outputs": [
        {
          "output_type": "stream",
          "name": "stdout",
          "text": [
            "3 minutes 200 seconds\n"
          ]
        }
      ],
      "source": [
        "print(\"3 minutes\",\"200 seconds\")"
      ]
    },
    {
      "cell_type": "markdown",
      "metadata": {
        "id": "nMpdEDwTjDDs"
      },
      "source": [
        "# Ex 10: Using Math Module\n",
        "\n",
        "Write a program that asks the user for a number and then prints out the sine, cosine, and tangent of that number."
      ]
    },
    {
      "cell_type": "code",
      "execution_count": null,
      "metadata": {
        "id": "U5EmUA6tjDDs"
      },
      "outputs": [],
      "source": [
        "import math\n",
        "num = float(input(\"Enter a number:\"))\n",
        "sine_value = math.sin(num)\n",
        "print(sine_value)\n"
      ]
    }
  ],
  "metadata": {
    "colab": {
      "name": "Ex1_Python.ipynb",
      "provenance": [],
      "include_colab_link": true
    },
    "kernelspec": {
      "display_name": "Python 3",
      "language": "python",
      "name": "python3"
    },
    "language_info": {
      "codemirror_mode": {
        "name": "ipython",
        "version": 3
      },
      "file_extension": ".py",
      "mimetype": "text/x-python",
      "name": "python",
      "nbconvert_exporter": "python",
      "pygments_lexer": "ipython3",
      "version": "3.12.1"
    }
  },
  "nbformat": 4,
  "nbformat_minor": 0
}
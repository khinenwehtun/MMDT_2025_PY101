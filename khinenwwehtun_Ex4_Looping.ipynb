{
  "cells": [
    {
      "cell_type": "markdown",
      "metadata": {
        "id": "view-in-github",
        "colab_type": "text"
      },
      "source": [
        "<a href=\"https://colab.research.google.com/github/khinenwehtun/MMDT_2025_PY101/blob/khinenwehtun/khinenwwehtun_Ex4_Looping.ipynb\" target=\"_parent\"><img src=\"https://colab.research.google.com/assets/colab-badge.svg\" alt=\"Open In Colab\"/></a>"
      ]
    },
    {
      "cell_type": "markdown",
      "metadata": {
        "id": "YeTHwB3EASGn"
      },
      "source": [
        "The exercises are extracted from A_Practical_Introduction_to_Python_Programming_Heinold.pdf"
      ]
    },
    {
      "cell_type": "markdown",
      "metadata": {
        "id": "wVOW5QDgAZ_R"
      },
      "source": [
        "Ex 1: Write a program that uses a while loop (not a for loop) to read through a string and print\n",
        "the characters of the string one-by-one on separate lines."
      ]
    },
    {
      "cell_type": "code",
      "source": [
        "text=\"my string\"\n",
        "index=0\n",
        "while  index<len(text):\n",
        "  print(text[index])\n",
        "  index+=1"
      ],
      "metadata": {
        "id": "YLfz5rOfxfPU",
        "outputId": "97ccafd0-79e9-4b38-bce7-2f2840594335",
        "colab": {
          "base_uri": "https://localhost:8080/"
        }
      },
      "execution_count": 16,
      "outputs": [
        {
          "output_type": "stream",
          "name": "stdout",
          "text": [
            "m\n",
            "y\n",
            " \n",
            "s\n",
            "t\n",
            "r\n",
            "i\n",
            "n\n",
            "g\n"
          ]
        }
      ]
    },
    {
      "cell_type": "markdown",
      "metadata": {
        "id": "5B-LyYV0AkCK"
      },
      "source": [
        "Ex 2: A good program will make sure that the data its users enter is valid. Write a program that\n",
        "asks the user for a weight and converts it from kilograms to pounds. Whenever the user\n",
        "enters a weight below 0, the program should tell them that their entry is invalid and then ask\n",
        "them again to enter a weight. [Hint: Use a while loop, not an if statement]."
      ]
    },
    {
      "cell_type": "code",
      "execution_count": 19,
      "metadata": {
        "id": "gpRZnsXjArkF",
        "outputId": "a774db7e-49aa-46d8-db7e-e9e0ee660b22",
        "colab": {
          "base_uri": "https://localhost:8080/"
        }
      },
      "outputs": [
        {
          "output_type": "stream",
          "name": "stdout",
          "text": [
            "Enter your weight in kilograms: -1\n",
            "Invalid entry. Weight cannot be negative.\n",
            "Please enter a valid weight in kilograms: 30\n",
            "Your weight in pounds is: 66.14\n"
          ]
        }
      ],
      "source": [
        "KG_TO_POUNDS = 2.20462\n",
        "weight = float(input(\"Enter your weight in kilograms: \"))\n",
        "\n",
        "while weight < 0:\n",
        "    print(\"Invalid entry. Weight cannot be negative.\")\n",
        "    weight = float(input(\"Please enter a valid weight in kilograms: \"))\n",
        "pounds = weight * KG_TO_POUNDS\n",
        "print(f\"Your weight in pounds is: {pounds:.2f}\")"
      ]
    },
    {
      "cell_type": "markdown",
      "metadata": {
        "id": "zQT0pCjRAsIK"
      },
      "source": [
        "Ex 3: Write a program that allows the user to enter any number of test scores. The user indicates\n",
        "they are done by entering in a negative number. Print how many of the scores are A’s (90 or\n",
        "above). Also print out the average"
      ]
    },
    {
      "cell_type": "code",
      "source": [
        "score =input(\"Enter a test score (negative number to stop): \")\n",
        "sum_scores = 0\n",
        "count = 0\n",
        "a_count = 0\n",
        "average=0\n",
        "for sum_scores in score:\n",
        "    if int(score) >=90:\n",
        "     print(\"you got A\")\n",
        "else:int(score)>=90\n",
        "print(f\"\\nNumber of A scores (90 or above): {a_count}\")\n",
        "print(f\"Average score: {average:.2f}\")\n",
        "\n",
        ""
      ],
      "metadata": {
        "id": "WVZFaO8j8NYl",
        "outputId": "d0379be0-9da1-4035-98b0-3d671b594edc",
        "colab": {
          "base_uri": "https://localhost:8080/"
        }
      },
      "execution_count": 61,
      "outputs": [
        {
          "output_type": "stream",
          "name": "stdout",
          "text": [
            "Enter a test score (negative number to stop): 90\n",
            "you got A\n",
            "you got A\n",
            "\n",
            "Number of A scores (90 or above): 0\n",
            "Average score: 0.00\n"
          ]
        }
      ]
    },
    {
      "cell_type": "markdown",
      "metadata": {
        "id": "IHIWc5jHAwxY"
      },
      "source": [
        "Ex 4: Write a program that asks the user for a string and a letter. Using a for loop, the\n",
        "program should print the index of the first occurrence of that letter and a message if the\n",
        "string does not contain the letter."
      ]
    },
    {
      "cell_type": "code",
      "execution_count": 62,
      "metadata": {
        "id": "xSe0mtQ8A68M",
        "outputId": "6b0a01e9-9a67-46cb-ee29-ce72922507c1",
        "colab": {
          "base_uri": "https://localhost:8080/"
        }
      },
      "outputs": [
        {
          "output_type": "stream",
          "name": "stdout",
          "text": [
            "Enter a string: 6\n",
            "Enter a letter: 7\n",
            "index of the first letter:\n"
          ]
        }
      ],
      "source": [
        "text = input(\"Enter a string: \")\n",
        "letter = input(\"Enter a letter: \")\n",
        "for index,text in enumerate(text):\n",
        "  print(\"index of the first letter:\".format(index,text))\n"
      ]
    },
    {
      "cell_type": "markdown",
      "metadata": {
        "id": "PfyUq4CnA8vk"
      },
      "source": [
        "Ex 5: Write a program in which you have a list that contains seven integers that can be 0 or 1. Find the first zero entry in the list and change it to a 1. If there are no zero entries, print a message saying so."
      ]
    },
    {
      "cell_type": "code",
      "execution_count": 69,
      "metadata": {
        "id": "6WiabH2QsfJu",
        "outputId": "7cd80715-bd9a-400a-bb32-ed39a0fcba98",
        "colab": {
          "base_uri": "https://localhost:8080/"
        }
      },
      "outputs": [
        {
          "output_type": "stream",
          "name": "stdout",
          "text": [
            "saying so\n",
            "saying so\n"
          ]
        }
      ],
      "source": [
        "binary_list = [1, 1, 0, 1, 0, 1, 1]\n",
        "found = False\n",
        "for i in range(len(binary_list)):\n",
        "    if binary_list[i] == 0:\n",
        "      print(\"saying so\")\n",
        ""
      ]
    },
    {
      "cell_type": "code",
      "source": [],
      "metadata": {
        "id": "zo39DH9kNwk8"
      },
      "execution_count": null,
      "outputs": []
    }
  ],
  "metadata": {
    "colab": {
      "name": "Ex4_Looping.ipynb",
      "provenance": [],
      "include_colab_link": true
    },
    "kernelspec": {
      "display_name": "Python 3",
      "name": "python3"
    },
    "language_info": {
      "codemirror_mode": {
        "name": "ipython",
        "version": 3
      },
      "file_extension": ".py",
      "mimetype": "text/x-python",
      "name": "python",
      "nbconvert_exporter": "python",
      "pygments_lexer": "ipython3",
      "version": "3.12.1"
    }
  },
  "nbformat": 4,
  "nbformat_minor": 0
}